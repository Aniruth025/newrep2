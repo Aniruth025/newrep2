{
  "nbformat": 4,
  "nbformat_minor": 0,
  "metadata": {
    "colab": {
      "provenance": [],
      "authorship_tag": "ABX9TyNPxUa5g01Lm3jEIXbYXnqE",
      "include_colab_link": true
    },
    "kernelspec": {
      "name": "python3",
      "display_name": "Python 3"
    },
    "language_info": {
      "name": "python"
    }
  },
  "cells": [
    {
      "cell_type": "markdown",
      "metadata": {
        "id": "view-in-github",
        "colab_type": "text"
      },
      "source": [
        "<a href=\"https://colab.research.google.com/github/Aniruth025/newrep2/blob/main/Statistical_Data_Analysis_.ipynb\" target=\"_parent\"><img src=\"https://colab.research.google.com/assets/colab-badge.svg\" alt=\"Open In Colab\"/></a>"
      ]
    },
    {
      "cell_type": "code",
      "execution_count": null,
      "metadata": {
        "id": "rDdEwUYYBiNe"
      },
      "outputs": [],
      "source": [
        "import pandas as pd"
      ]
    },
    {
      "cell_type": "code",
      "source": [
        "pip install numpy"
      ],
      "metadata": {
        "colab": {
          "base_uri": "https://localhost:8080/"
        },
        "id": "bp4rXmcOBmwi",
        "outputId": "d44f6385-b319-4240-fb3c-f9f37e9c362c"
      },
      "execution_count": null,
      "outputs": [
        {
          "output_type": "stream",
          "name": "stdout",
          "text": [
            "Looking in indexes: https://pypi.org/simple, https://us-python.pkg.dev/colab-wheels/public/simple/\n",
            "Requirement already satisfied: numpy in /usr/local/lib/python3.7/dist-packages (1.21.6)\n"
          ]
        }
      ]
    },
    {
      "cell_type": "code",
      "source": [
        "NAME_KEY = \"NAME\"\n",
        "CITY_KEY = \"CITY\"\n",
        "GENDER_KEY = \"GENDER\"\n",
        "MALE_KEY = \"MALE\"\n",
        "FEMALE_KEY = \"FEMALE\"\n",
        "HEIGHT_KEY = \"HEIGHT\"\n",
        "WEIGHT_KEY = \"WEIGHT\"\n",
        "data = [['USER 01', 'Chennai', FEMALE_KEY, 5.8, 50],\n",
        "        ['USER 02', 'Chennai', MALE_KEY, 6.0, 49],\n",
        "        ['USER 03', 'Mumbai', FEMALE_KEY, 5.6, 60],\n",
        "        ['USER 04', 'Chennai', MALE_KEY, 5.0, 54],\n",
        "        ['USER 05', 'Chennai', MALE_KEY, 5.8, 59],\n",
        "        ['USER 06', 'Madurai', FEMALE_KEY, 6.2, 68],\n",
        "        ['USER 07', 'Kanyakumari', FEMALE_KEY, 6.3, 70],\n",
        "        ['USER 08', 'Trichi', FEMALE_KEY, 5.5, 64],\n",
        "        ['USER 09', 'Chennai', MALE_KEY, 6.1, 51],\n",
        "        ['USER 10', 'Madurai', FEMALE_KEY, 5.3, 67]]\n",
        "df = pd.DataFrame(data, columns=[NAME_KEY, CITY_KEY, GENDER_KEY, HEIGHT_KEY, WEIGHT_KEY])"
      ],
      "metadata": {
        "id": "aFwsMGA2B8Bf"
      },
      "execution_count": null,
      "outputs": []
    },
    {
      "cell_type": "code",
      "source": [
        "df.groupby(CITY_KEY)[GENDER_KEY].count()"
      ],
      "metadata": {
        "colab": {
          "base_uri": "https://localhost:8080/"
        },
        "id": "a4NvYETUF6mx",
        "outputId": "ac9dca65-2cd3-4b88-8249-963dea04db7e"
      },
      "execution_count": null,
      "outputs": [
        {
          "output_type": "execute_result",
          "data": {
            "text/plain": [
              "CITY\n",
              "Chennai        5\n",
              "Kanyakumari    1\n",
              "Madurai        2\n",
              "Mumbai         1\n",
              "Trichi         1\n",
              "Name: GENDER, dtype: int64"
            ]
          },
          "metadata": {},
          "execution_count": 6
        }
      ]
    },
    {
      "cell_type": "code",
      "source": [
        "df.groupby(CITY_KEY).groups"
      ],
      "metadata": {
        "colab": {
          "base_uri": "https://localhost:8080/"
        },
        "id": "Fv9p_IeCF8tG",
        "outputId": "c82d2d85-2735-4b54-a88e-c0aba0881025"
      },
      "execution_count": null,
      "outputs": [
        {
          "output_type": "execute_result",
          "data": {
            "text/plain": [
              "{'Chennai': [0, 1, 3, 4, 8], 'Kanyakumari': [6], 'Madurai': [5, 9], 'Mumbai': [2], 'Trichi': [7]}"
            ]
          },
          "metadata": {},
          "execution_count": 7
        }
      ]
    },
    {
      "cell_type": "code",
      "source": [
        "df.groupby([CITY_KEY, GENDER_KEY]).groups"
      ],
      "metadata": {
        "colab": {
          "base_uri": "https://localhost:8080/"
        },
        "id": "sJJhPAYvGAMO",
        "outputId": "89173206-614c-4342-d59b-3319755423db"
      },
      "execution_count": null,
      "outputs": [
        {
          "output_type": "execute_result",
          "data": {
            "text/plain": [
              "{('Chennai', 'FEMALE'): [0], ('Chennai', 'MALE'): [1, 3, 4, 8], ('Kanyakumari', 'FEMALE'): [6], ('Madurai', 'FEMALE'): [5, 9], ('Mumbai', 'FEMALE'): [2], ('Trichi', 'FEMALE'): [7]}"
            ]
          },
          "metadata": {},
          "execution_count": 8
        }
      ]
    },
    {
      "cell_type": "code",
      "source": [
        "grouped_by_gender = df.groupby(GENDER_KEY)\n",
        "for gender, group in grouped_by_gender:\n",
        "  print(f\"Gender: {gender}.\")\n",
        "  print(\"Group: \\n\", group)\n",
        "  print()"
      ],
      "metadata": {
        "colab": {
          "base_uri": "https://localhost:8080/"
        },
        "id": "Sj_wBJO_GD_d",
        "outputId": "8f39c456-3672-4495-db9b-91232b7b5282"
      },
      "execution_count": null,
      "outputs": [
        {
          "output_type": "stream",
          "name": "stdout",
          "text": [
            "Gender: FEMALE.\n",
            "Group: \n",
            "       NAME         CITY  GENDER  HEIGHT  WEIGHT\n",
            "0  USER 01      Chennai  FEMALE     5.8      50\n",
            "2  USER 03       Mumbai  FEMALE     5.6      60\n",
            "5  USER 06      Madurai  FEMALE     6.2      68\n",
            "6  USER 07  Kanyakumari  FEMALE     6.3      70\n",
            "7  USER 08       Trichi  FEMALE     5.5      64\n",
            "9  USER 10      Madurai  FEMALE     5.3      67\n",
            "\n",
            "Gender: MALE.\n",
            "Group: \n",
            "       NAME     CITY GENDER  HEIGHT  WEIGHT\n",
            "1  USER 02  Chennai   MALE     6.0      49\n",
            "3  USER 04  Chennai   MALE     5.0      54\n",
            "4  USER 05  Chennai   MALE     5.8      59\n",
            "8  USER 09  Chennai   MALE     6.1      51\n",
            "\n"
          ]
        }
      ]
    },
    {
      "cell_type": "code",
      "source": [
        "grouped_by_gender = df.groupby(GENDER_KEY)\n",
        "print(grouped_by_gender.get_group(FEMALE_KEY))"
      ],
      "metadata": {
        "colab": {
          "base_uri": "https://localhost:8080/"
        },
        "id": "DNrNh41vGH1l",
        "outputId": "da33bba0-305c-4451-928c-78e4f0c068cc"
      },
      "execution_count": null,
      "outputs": [
        {
          "output_type": "stream",
          "name": "stdout",
          "text": [
            "      NAME         CITY  GENDER  HEIGHT  WEIGHT\n",
            "0  USER 01      Chennai  FEMALE     5.8      50\n",
            "2  USER 03       Mumbai  FEMALE     5.6      60\n",
            "5  USER 06      Madurai  FEMALE     6.2      68\n",
            "6  USER 07  Kanyakumari  FEMALE     6.3      70\n",
            "7  USER 08       Trichi  FEMALE     5.5      64\n",
            "9  USER 10      Madurai  FEMALE     5.3      67\n"
          ]
        }
      ]
    },
    {
      "cell_type": "code",
      "source": [
        "import numpy as np"
      ],
      "metadata": {
        "id": "ml_v91sZGKyn"
      },
      "execution_count": null,
      "outputs": []
    },
    {
      "cell_type": "code",
      "source": [
        "grouped_by_gender = df.groupby(GENDER_KEY)\n",
        "print(grouped_by_gender[HEIGHT_KEY].agg(np.mean))\n",
        "print()\n",
        "print(grouped_by_gender[WEIGHT_KEY].agg(np.mean))\n",
        "print()\n",
        "print(grouped_by_gender.agg(np.size))\n",
        "print()\n",
        "print(grouped_by_gender[HEIGHT_KEY].agg((np.sum, np.mean, np.std)))\n",
        "print()"
      ],
      "metadata": {
        "colab": {
          "base_uri": "https://localhost:8080/"
        },
        "id": "HW7bZ0c_GK29",
        "outputId": "f74ee17d-a9f5-4280-e1bf-33b815853117"
      },
      "execution_count": null,
      "outputs": [
        {
          "output_type": "stream",
          "name": "stdout",
          "text": [
            "GENDER\n",
            "FEMALE    5.783333\n",
            "MALE      5.725000\n",
            "Name: HEIGHT, dtype: float64\n",
            "\n",
            "GENDER\n",
            "FEMALE    63.166667\n",
            "MALE      53.250000\n",
            "Name: WEIGHT, dtype: float64\n",
            "\n",
            "        NAME  CITY  HEIGHT  WEIGHT\n",
            "GENDER                            \n",
            "FEMALE     6     6       6       6\n",
            "MALE       4     4       4       4\n",
            "\n",
            "         sum      mean       std\n",
            "GENDER                          \n",
            "FEMALE  34.7  5.783333  0.397073\n",
            "MALE    22.9  5.725000  0.499166\n",
            "\n"
          ]
        }
      ]
    },
    {
      "cell_type": "code",
      "source": [
        "s = df.set_index([NAME_KEY])\n",
        "print(s)\n",
        "print()\n",
        "grouped_by_gender = s.groupby(GENDER_KEY)\n",
        "score = lambda x : ((x - x.mean()) / x.std() * 10)\n",
        "print(grouped_by_gender.transform(score))\n",
        "print()"
      ],
      "metadata": {
        "colab": {
          "base_uri": "https://localhost:8080/"
        },
        "id": "pwkA84ioGK_-",
        "outputId": "d536b6d2-1cc2-4245-a8cb-de940980cef7"
      },
      "execution_count": null,
      "outputs": [
        {
          "output_type": "stream",
          "name": "stdout",
          "text": [
            "                CITY  GENDER  HEIGHT  WEIGHT\n",
            "NAME                                        \n",
            "USER 01      Chennai  FEMALE     5.8      50\n",
            "USER 02      Chennai    MALE     6.0      49\n",
            "USER 03       Mumbai  FEMALE     5.6      60\n",
            "USER 04      Chennai    MALE     5.0      54\n",
            "USER 05      Chennai    MALE     5.8      59\n",
            "USER 06      Madurai  FEMALE     6.2      68\n",
            "USER 07  Kanyakumari  FEMALE     6.3      70\n",
            "USER 08       Trichi  FEMALE     5.5      64\n",
            "USER 09      Chennai    MALE     6.1      51\n",
            "USER 10      Madurai  FEMALE     5.3      67\n",
            "\n",
            "            HEIGHT     WEIGHT\n",
            "NAME                         \n",
            "USER 01   0.419739 -17.956401\n",
            "USER 02   5.509190  -9.771621\n",
            "USER 03  -4.617124  -4.318628\n",
            "USER 04 -14.524227   1.724404\n",
            "USER 05   1.502506  13.220429\n",
            "USER 06  10.493463   6.591590\n",
            "USER 07  13.011894   9.319145\n",
            "USER 08  -7.135555   1.136481\n",
            "USER 09   7.512531  -5.173211\n",
            "USER 10 -12.172417   5.227813\n",
            "\n"
          ]
        },
        {
          "output_type": "stream",
          "name": "stderr",
          "text": [
            "/usr/local/lib/python3.7/dist-packages/ipykernel_launcher.py:6: FutureWarning: Dropping invalid columns in DataFrameGroupBy.transform is deprecated. In a future version, a TypeError will be raised. Before calling .transform, select only columns which should be valid for the transforming function.\n",
            "  \n"
          ]
        }
      ]
    },
    {
      "cell_type": "code",
      "source": [
        "grouped_by_city = df.groupby(GENDER_KEY)\n",
        "d = grouped_by_city.filter(lambda x : len(x) > 4)\n",
        "print(d)"
      ],
      "metadata": {
        "colab": {
          "base_uri": "https://localhost:8080/"
        },
        "id": "61lyr3I-GLIL",
        "outputId": "746097a3-ef44-41db-a18b-939e49285dea"
      },
      "execution_count": null,
      "outputs": [
        {
          "output_type": "stream",
          "name": "stdout",
          "text": [
            "      NAME         CITY  GENDER  HEIGHT  WEIGHT\n",
            "0  USER 01      Chennai  FEMALE     5.8      50\n",
            "2  USER 03       Mumbai  FEMALE     5.6      60\n",
            "5  USER 06      Madurai  FEMALE     6.2      68\n",
            "6  USER 07  Kanyakumari  FEMALE     6.3      70\n",
            "7  USER 08       Trichi  FEMALE     5.5      64\n",
            "9  USER 10      Madurai  FEMALE     5.3      67\n"
          ]
        }
      ]
    }
  ]
}